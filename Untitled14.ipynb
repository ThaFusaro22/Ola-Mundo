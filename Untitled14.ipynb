{
  "nbformat": 4,
  "nbformat_minor": 0,
  "metadata": {
    "colab": {
      "provenance": [],
      "authorship_tag": "ABX9TyMzrS0ZjqyeKCy+x5cwTrpP",
      "include_colab_link": true
    },
    "kernelspec": {
      "name": "python3",
      "display_name": "Python 3"
    },
    "language_info": {
      "name": "python"
    }
  },
  "cells": [
    {
      "cell_type": "markdown",
      "metadata": {
        "id": "view-in-github",
        "colab_type": "text"
      },
      "source": [
        "<a href=\"https://colab.research.google.com/github/ThaFusaro22/Ola-Mundo/blob/main/Untitled14.ipynb\" target=\"_parent\"><img src=\"https://colab.research.google.com/assets/colab-badge.svg\" alt=\"Open In Colab\"/></a>"
      ]
    },
    {
      "cell_type": "code",
      "execution_count": 5,
      "metadata": {
        "colab": {
          "base_uri": "https://localhost:8080/"
        },
        "id": "-qi34Tr5Pdep",
        "outputId": "4234fd5d-cac8-4750-bf0e-6c781e719dec"
      },
      "outputs": [
        {
          "output_type": "stream",
          "name": "stdout",
          "text": [
            "Digite um numero qualquer para saber se é par ou impar:15\n",
            "Onumero 15 é impar\n"
          ]
        }
      ],
      "source": [
        "# crie um programa que leia um numero inteiro e mostre na tela se ele é Par ou Impar.\n",
        "numero = int(input('Digite um numero qualquer para saber se é par ou impar:'))\n",
        "resultado = numero % 2\n",
        "if resultado == 0:\n",
        "    print('O numero {} é par'.format(numero))\n",
        "else:\n",
        "    print('Onumero {} é impar'.format(numero))"
      ]
    },
    {
      "cell_type": "code",
      "source": [
        "#Desenvolva um programa que pergunte a distância de uma viagem em Km. Calcule o preço da passagem, cobrando R$0,50 por Km para viagens de até 200Km e R$0,45 parta viagens mais longas.\n",
        "Distancia = float(input('Qual é a distancia da sua viagem?:'))\n",
        "print('Você está preste a começar uma viagem de {}km. ')\n",
        "if Distancia <= 200:\n",
        "  preço = Distancia * 0.50\n",
        "else:\n",
        "  preço = Distancia * 0.45\n",
        "print('E o preço da sua passagem será de R${:.2f}'.format(preço))\n",
        "\n",
        "\n"
      ],
      "metadata": {
        "colab": {
          "base_uri": "https://localhost:8080/"
        },
        "id": "s6h-IBarW-bq",
        "outputId": "2ba1cd0b-34c1-47c2-cadb-aa52de0c4f1a"
      },
      "execution_count": 9,
      "outputs": [
        {
          "output_type": "stream",
          "name": "stdout",
          "text": [
            "Qual é a distancia da sua viagem?:122\n",
            "Você está preste a começar uma viagem de {}km. \n",
            "E o preço da sua passagem será de R$61.00\n"
          ]
        }
      ]
    }
  ]
}