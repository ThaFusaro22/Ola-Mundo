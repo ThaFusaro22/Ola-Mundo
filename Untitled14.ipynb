{
  "nbformat": 4,
  "nbformat_minor": 0,
  "metadata": {
    "colab": {
      "provenance": [],
      "authorship_tag": "ABX9TyMihh+328AR7BQCa3nM4E4Z",
      "include_colab_link": true
    },
    "kernelspec": {
      "name": "python3",
      "display_name": "Python 3"
    },
    "language_info": {
      "name": "python"
    }
  },
  "cells": [
    {
      "cell_type": "markdown",
      "metadata": {
        "id": "view-in-github",
        "colab_type": "text"
      },
      "source": [
        "<a href=\"https://colab.research.google.com/github/ThaFusaro22/Ola-Mundo/blob/main/Untitled14.ipynb\" target=\"_parent\"><img src=\"https://colab.research.google.com/assets/colab-badge.svg\" alt=\"Open In Colab\"/></a>"
      ]
    },
    {
      "cell_type": "code",
      "execution_count": null,
      "metadata": {
        "colab": {
          "base_uri": "https://localhost:8080/"
        },
        "id": "-qi34Tr5Pdep",
        "outputId": "4234fd5d-cac8-4750-bf0e-6c781e719dec"
      },
      "outputs": [
        {
          "output_type": "stream",
          "name": "stdout",
          "text": [
            "Digite um numero qualquer para saber se é par ou impar:15\n",
            "Onumero 15 é impar\n"
          ]
        }
      ],
      "source": [
        "# crie um programa que leia um numero inteiro e mostre na tela se ele é Par ou Impar.\n",
        "numero = int(input('Digite um numero qualquer para saber se é par ou impar:'))\n",
        "resultado = numero % 2\n",
        "if resultado == 0:\n",
        "    print('O numero {} é par'.format(numero))\n",
        "else:\n",
        "    print('Onumero {} é impar'.format(numero))"
      ]
    },
    {
      "cell_type": "code",
      "source": [],
      "metadata": {
        "id": "OXgX99Nqp3GB"
      },
      "execution_count": null,
      "outputs": []
    },
    {
      "cell_type": "code",
      "source": [
        "#Desenvolva um programa que pergunte a distância de uma viagem em Km. Calcule o preço da passagem, cobrando R$0,50 por Km para viagens de até 200Km e R$0,45 parta viagens mais longas.\n",
        "Distancia = float(input('Qual é a distancia da sua viagem?:'))\n",
        "print('Você está preste a começar uma viagem de {}km. ')\n",
        "if Distancia <= 200:\n",
        "  preço = Distancia * 0.50\n",
        "else:\n",
        "  preço = Distancia * 0.45\n",
        "print('E o preço da sua passagem será de R${:.2f}'.format(preço))\n",
        "\n",
        "\n"
      ],
      "metadata": {
        "colab": {
          "base_uri": "https://localhost:8080/"
        },
        "id": "s6h-IBarW-bq",
        "outputId": "2ba1cd0b-34c1-47c2-cadb-aa52de0c4f1a"
      },
      "execution_count": null,
      "outputs": [
        {
          "output_type": "stream",
          "name": "stdout",
          "text": [
            "Qual é a distancia da sua viagem?:122\n",
            "Você está preste a começar uma viagem de {}km. \n",
            "E o preço da sua passagem será de R$61.00\n"
          ]
        }
      ]
    },
    {
      "cell_type": "code",
      "source": [
        "- [ ] pão\n",
        "- [ ] leite\n",
        "- [x] manteiga"
      ],
      "metadata": {
        "colab": {
          "base_uri": "https://localhost:8080/",
          "height": 106
        },
        "id": "9gYsn44fp7ni",
        "outputId": "dc73d3ff-1dbb-48e0-9444-39aab9a9b11a"
      },
      "execution_count": 1,
      "outputs": [
        {
          "output_type": "error",
          "ename": "SyntaxError",
          "evalue": "invalid syntax (ipython-input-1709999263.py, line 1)",
          "traceback": [
            "\u001b[0;36m  File \u001b[0;32m\"/tmp/ipython-input-1709999263.py\"\u001b[0;36m, line \u001b[0;32m1\u001b[0m\n\u001b[0;31m    - [ ] pão\u001b[0m\n\u001b[0m          ^\u001b[0m\n\u001b[0;31mSyntaxError\u001b[0m\u001b[0;31m:\u001b[0m invalid syntax\n"
          ]
        }
      ]
    },
    {
      "cell_type": "markdown",
      "source": [
        "- [ ] Leite\n",
        "- [ ] Pão\n",
        "- [ ] Manteiga\n"
      ],
      "metadata": {
        "id": "kPx8iOOSxL_b"
      }
    },
    {
      "cell_type": "markdown",
      "metadata": {
        "id": "9d14db45"
      },
      "source": [
        "- [ ] pão\n",
        "- [ ] leite\n",
        "- [x] manteiga"
      ]
    },
    {
      "cell_type": "markdown",
      "source": [
        "[Acesse me git hub](https://github.com/ThaFusaro22/desktop-tutorial)\n"
      ],
      "metadata": {
        "id": "kGHP8Uv-dHYv"
      }
    },
    {
      "cell_type": "code",
      "source": [
        "#Laçamento de notas dos alunos\n",
        "nota1 = int(input(' Digite a primeira nota:'))\n",
        "nota2 = int(input('Digite a segunda nota:'))\n",
        "nota3 = int(input('Digite a terceira nota:'))\n",
        "media = (nota1 + nota2 + nota3) / 3\n",
        "print('O aluno foi?:')\n",
        "if media >= 7:\n",
        "  print('Aprovado')\n",
        "  print('Sua media final foi {:.2f}'.format(media))\n",
        "  print('Parabens')\n",
        "else:\n",
        "  print('Reprovado')\n",
        "  print('Sua media final foi {:.2f}'.format(media))\n",
        "  print('Estude mais')\n",
        "\n"
      ],
      "metadata": {
        "colab": {
          "base_uri": "https://localhost:8080/"
        },
        "id": "GiOLwIlWdrCN",
        "outputId": "20d78a95-5552-40fa-d033-b1674b267d23"
      },
      "execution_count": 5,
      "outputs": [
        {
          "output_type": "stream",
          "name": "stdout",
          "text": [
            " Digite a primeira nota:5\n",
            "Digite a segunda nota:3\n",
            "Digite a terceira nota:2\n",
            "O aluno foi?:\n",
            "Reprovado\n",
            "Sua media final foi 3.33\n",
            "Estude mais\n"
          ]
        }
      ]
    },
    {
      "cell_type": "markdown",
      "source": [
        "Num | Nome | Nota\n",
        "---| --- | ---\n",
        "1 | Thais | 8,5\n",
        "2 | Joelma | 10,0\n",
        "3 | Marcos | 7,5\n"
      ],
      "metadata": {
        "id": "O17zMTUuSWpD"
      }
    }
  ]
}